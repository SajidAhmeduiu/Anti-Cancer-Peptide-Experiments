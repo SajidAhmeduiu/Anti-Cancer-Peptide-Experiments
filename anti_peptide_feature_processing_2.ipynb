{
 "cells": [
  {
   "cell_type": "code",
   "execution_count": 2,
   "metadata": {
    "collapsed": true
   },
   "outputs": [],
   "source": [
    "import pandas as pd\n",
    "import numpy as np"
   ]
  },
  {
   "cell_type": "code",
   "execution_count": 3,
   "metadata": {
    "collapsed": true
   },
   "outputs": [],
   "source": [
    "hydrophobicities = pd.read_excel('10_hydrophobicities.xlsx')"
   ]
  },
  {
   "cell_type": "code",
   "execution_count": 4,
   "metadata": {},
   "outputs": [
    {
     "data": {
      "text/html": [
       "<div>\n",
       "<style scoped>\n",
       "    .dataframe tbody tr th:only-of-type {\n",
       "        vertical-align: middle;\n",
       "    }\n",
       "\n",
       "    .dataframe tbody tr th {\n",
       "        vertical-align: top;\n",
       "    }\n",
       "\n",
       "    .dataframe thead th {\n",
       "        text-align: right;\n",
       "    }\n",
       "</style>\n",
       "<table border=\"1\" class=\"dataframe\">\n",
       "  <thead>\n",
       "    <tr style=\"text-align: right;\">\n",
       "      <th></th>\n",
       "      <th>Residue Type</th>\n",
       "      <th>kdHydrophobicity</th>\n",
       "      <th>wwHydrophobicity</th>\n",
       "      <th>hhHydrophobicity</th>\n",
       "      <th>mfHydrophobicity</th>\n",
       "      <th>ttHydrophobicity</th>\n",
       "      <th>fasmanHydrophobicity</th>\n",
       "      <th>engelmanHydrophobicity</th>\n",
       "      <th>cowanHydrophobicity</th>\n",
       "      <th>kideraHydrophobicity</th>\n",
       "      <th>wolfendenHydrophobicity</th>\n",
       "      <th>argosHydrophobicity</th>\n",
       "      <th>Residue Signature</th>\n",
       "      <th>e</th>\n",
       "    </tr>\n",
       "  </thead>\n",
       "  <tbody>\n",
       "    <tr>\n",
       "      <th>6</th>\n",
       "      <td>Ala</td>\n",
       "      <td>1.8</td>\n",
       "      <td>-0.17</td>\n",
       "      <td>0.11</td>\n",
       "      <td>0.00</td>\n",
       "      <td>0.38</td>\n",
       "      <td>-0.21</td>\n",
       "      <td>-1.6</td>\n",
       "      <td>0.42</td>\n",
       "      <td>-0.27</td>\n",
       "      <td>1.12</td>\n",
       "      <td>0.61</td>\n",
       "      <td>A</td>\n",
       "      <td>A</td>\n",
       "    </tr>\n",
       "    <tr>\n",
       "      <th>19</th>\n",
       "      <td>Arg</td>\n",
       "      <td>-4.5</td>\n",
       "      <td>-0.81</td>\n",
       "      <td>2.58</td>\n",
       "      <td>3.71</td>\n",
       "      <td>-2.57</td>\n",
       "      <td>2.11</td>\n",
       "      <td>12.3</td>\n",
       "      <td>-1.56</td>\n",
       "      <td>1.87</td>\n",
       "      <td>-2.55</td>\n",
       "      <td>0.60</td>\n",
       "      <td>R</td>\n",
       "      <td>R</td>\n",
       "    </tr>\n",
       "    <tr>\n",
       "      <th>17</th>\n",
       "      <td>Asn</td>\n",
       "      <td>-3.5</td>\n",
       "      <td>-0.42</td>\n",
       "      <td>2.05</td>\n",
       "      <td>3.47</td>\n",
       "      <td>-1.62</td>\n",
       "      <td>0.96</td>\n",
       "      <td>4.8</td>\n",
       "      <td>-1.03</td>\n",
       "      <td>0.81</td>\n",
       "      <td>-0.83</td>\n",
       "      <td>0.06</td>\n",
       "      <td>N</td>\n",
       "      <td>N</td>\n",
       "    </tr>\n",
       "    <tr>\n",
       "      <th>16</th>\n",
       "      <td>Asp</td>\n",
       "      <td>-3.5</td>\n",
       "      <td>-1.23</td>\n",
       "      <td>3.49</td>\n",
       "      <td>2.95</td>\n",
       "      <td>-3.27</td>\n",
       "      <td>1.36</td>\n",
       "      <td>9.2</td>\n",
       "      <td>-0.51</td>\n",
       "      <td>0.81</td>\n",
       "      <td>-0.83</td>\n",
       "      <td>0.46</td>\n",
       "      <td>D</td>\n",
       "      <td>D</td>\n",
       "    </tr>\n",
       "    <tr>\n",
       "      <th>4</th>\n",
       "      <td>Cys</td>\n",
       "      <td>2.5</td>\n",
       "      <td>0.24</td>\n",
       "      <td>-0.13</td>\n",
       "      <td>0.49</td>\n",
       "      <td>-0.30</td>\n",
       "      <td>-6.04</td>\n",
       "      <td>-2.0</td>\n",
       "      <td>0.84</td>\n",
       "      <td>-1.05</td>\n",
       "      <td>0.59</td>\n",
       "      <td>1.07</td>\n",
       "      <td>C</td>\n",
       "      <td>C</td>\n",
       "    </tr>\n",
       "  </tbody>\n",
       "</table>\n",
       "</div>"
      ],
      "text/plain": [
       "   Residue Type  kdHydrophobicity  wwHydrophobicity  hhHydrophobicity  \\\n",
       "6           Ala               1.8             -0.17              0.11   \n",
       "19          Arg              -4.5             -0.81              2.58   \n",
       "17          Asn              -3.5             -0.42              2.05   \n",
       "16          Asp              -3.5             -1.23              3.49   \n",
       "4           Cys               2.5              0.24             -0.13   \n",
       "\n",
       "    mfHydrophobicity  ttHydrophobicity  fasmanHydrophobicity  \\\n",
       "6               0.00              0.38                 -0.21   \n",
       "19              3.71             -2.57                  2.11   \n",
       "17              3.47             -1.62                  0.96   \n",
       "16              2.95             -3.27                  1.36   \n",
       "4               0.49             -0.30                 -6.04   \n",
       "\n",
       "    engelmanHydrophobicity  cowanHydrophobicity  kideraHydrophobicity  \\\n",
       "6                     -1.6                 0.42                 -0.27   \n",
       "19                    12.3                -1.56                  1.87   \n",
       "17                     4.8                -1.03                  0.81   \n",
       "16                     9.2                -0.51                  0.81   \n",
       "4                     -2.0                 0.84                 -1.05   \n",
       "\n",
       "    wolfendenHydrophobicity  argosHydrophobicity Residue Signature  e  \n",
       "6                      1.12                 0.61                 A  A  \n",
       "19                    -2.55                 0.60                 R  R  \n",
       "17                    -0.83                 0.06                 N  N  \n",
       "16                    -0.83                 0.46                 D  D  \n",
       "4                      0.59                 1.07                 C  C  "
      ]
     },
     "execution_count": 4,
     "metadata": {},
     "output_type": "execute_result"
    }
   ],
   "source": [
    "hydrophobicities.head()"
   ]
  },
  {
   "cell_type": "code",
   "execution_count": 5,
   "metadata": {
    "collapsed": true
   },
   "outputs": [],
   "source": [
    "hydrophobicities.columns = hydrophobicities.columns.str.strip().str.lower().str.replace(' ', '_').str.replace('(', '').str.replace(')', '')"
   ]
  },
  {
   "cell_type": "code",
   "execution_count": 6,
   "metadata": {
    "collapsed": true
   },
   "outputs": [],
   "source": [
    "hydro_dict = {}\n",
    "for amino_acid in hydrophobicities['residue_signature'] :\n",
    "    hydro_dict[amino_acid] = list()"
   ]
  },
  {
   "cell_type": "code",
   "execution_count": 7,
   "metadata": {},
   "outputs": [
    {
     "name": "stdout",
     "output_type": "stream",
     "text": [
      "{'A': [], 'R': [], 'N': [], 'D': [], 'C': [], 'Q': [], 'E': [], 'G': [], 'H': [], 'I': [], 'L': [], 'K': [], 'M': [], 'F': [], 'P': [], 'S': [], 'T': [], 'W': [], 'Y': [], 'V': []}\n"
     ]
    }
   ],
   "source": [
    "print(hydro_dict)"
   ]
  },
  {
   "cell_type": "code",
   "execution_count": 8,
   "metadata": {},
   "outputs": [
    {
     "name": "stdout",
     "output_type": "stream",
     "text": [
      "['residue_type', 'kdhydrophobicity', 'wwhydrophobicity', 'hhhydrophobicity', 'mfhydrophobicity', 'tthydrophobicity', 'fasmanhydrophobicity', 'engelmanhydrophobicity', 'cowanhydrophobicity', 'kiderahydrophobicity', 'wolfendenhydrophobicity', 'argoshydrophobicity', 'residue_signature', 'e']\n",
      "['wwhydrophobicity', 'hhhydrophobicity', 'mfhydrophobicity', 'tthydrophobicity', 'fasmanhydrophobicity', 'engelmanhydrophobicity', 'cowanhydrophobicity', 'kiderahydrophobicity', 'wolfendenhydrophobicity', 'argoshydrophobicity']\n"
     ]
    }
   ],
   "source": [
    "column_names = list(hydrophobicities.columns.values)\n",
    "print(column_names)\n",
    "properties = column_names[2:-2]\n",
    "print(properties)"
   ]
  },
  {
   "cell_type": "code",
   "execution_count": 9,
   "metadata": {
    "collapsed": true
   },
   "outputs": [],
   "source": [
    "for amino_acid in hydrophobicities.itertuples():\n",
    "    residue_signature = amino_acid.residue_signature\n",
    "    hydro_dict[residue_signature].append(amino_acid.kdhydrophobicity)\n",
    "    hydro_dict[residue_signature].append(amino_acid.wwhydrophobicity)\n",
    "    hydro_dict[residue_signature].append(amino_acid.hhhydrophobicity)\n",
    "    hydro_dict[residue_signature].append(amino_acid.mfhydrophobicity)\n",
    "    hydro_dict[residue_signature].append(amino_acid.tthydrophobicity)\n",
    "    hydro_dict[residue_signature].append(amino_acid.fasmanhydrophobicity)\n",
    "    hydro_dict[residue_signature].append(amino_acid.engelmanhydrophobicity)\n",
    "    hydro_dict[residue_signature].append(amino_acid.cowanhydrophobicity)\n",
    "    hydro_dict[residue_signature].append(amino_acid.kiderahydrophobicity)\n",
    "    hydro_dict[residue_signature].append(amino_acid.wolfendenhydrophobicity)\n",
    "    hydro_dict[residue_signature].append(amino_acid.argoshydrophobicity)\n"
   ]
  },
  {
   "cell_type": "code",
   "execution_count": 10,
   "metadata": {},
   "outputs": [
    {
     "data": {
      "text/plain": [
       "{'A': [1.8, -0.17, 0.11, 0.0, 0.38, -0.21, -1.6, 0.42, -0.27, 1.12, 0.61],\n",
       " 'R': [-4.5, -0.81, 2.58, 3.71, -2.57, 2.11, 12.3, -1.56, 1.87, -2.55, 0.6],\n",
       " 'N': [-3.5, -0.42, 2.05, 3.47, -1.62, 0.96, 4.8, -1.03, 0.81, -0.83, 0.06],\n",
       " 'D': [-3.5, -1.23, 3.49, 2.95, -3.27, 1.36, 9.2, -0.51, 0.81, -0.83, 0.46],\n",
       " 'C': [2.5, 0.24, -0.13, 0.49, -0.3, -6.04, -2.0, 0.84, -1.05, 0.59, 1.07],\n",
       " 'Q': [-3.5, -0.58, 2.36, 3.01, -1.84, 1.52, 4.1, -0.96, 1.1, -0.78, 0.0],\n",
       " 'E': [-3.5, -2.02, 2.68, 1.64, -2.9, 2.3, 8.2, -0.37, 1.17, -0.92, 0.47],\n",
       " 'G': [-0.4, -0.01, 0.74, 1.72, -0.19, 0.0, -1.0, 0.0, -0.16, 1.2, 0.07],\n",
       " 'H': [-3.2, -0.96, 2.06, 4.76, -1.44, -1.23, 3.0, -2.28, 0.28, -0.93, 0.61],\n",
       " 'I': [4.5, 0.31, -0.6, -1.56, 1.97, -4.81, -3.1, 1.81, -0.77, 1.16, 2.22],\n",
       " 'L': [3.8, 0.56, -0.55, -1.81, 1.82, -4.68, -2.8, 1.8, -1.1, 1.18, 1.53],\n",
       " 'K': [-3.9, -0.99, 2.71, 5.39, -3.46, 3.88, 8.8, -2.03, 1.7, -0.8, 1.15],\n",
       " 'M': [1.9, 0.23, -0.1, -0.76, 1.4, -3.66, -3.4, 1.18, -0.73, 0.55, 1.18],\n",
       " 'F': [2.8, 1.13, -0.32, -2.2, 1.98, -4.65, -3.7, 1.74, -1.43, 0.67, 2.02],\n",
       " 'P': [-1.6, -0.45, 2.23, -1.52, -1.44, 0.75, 0.2, 0.86, -0.75, 0.54, 1.95],\n",
       " 'S': [-0.8, -0.13, 0.84, 1.83, -0.53, 1.74, -0.6, -0.64, 0.42, -0.05, 0.05],\n",
       " 'T': [-0.7, -0.14, 0.52, 1.78, -0.32, 0.78, -1.2, -0.26, 0.63, -0.02, 0.05],\n",
       " 'W': [-0.9, 1.85, 0.3, -0.38, 1.53, -3.32, -1.9, 1.46, -1.57, -0.19, 2.65],\n",
       " 'Y': [-1.3, 0.94, 0.68, -1.09, 0.49, -1.01, 0.7, 0.51, -0.56, -0.23, 1.88],\n",
       " 'V': [4.2, -0.07, -0.31, -0.78, 1.46, -3.5, -2.6, 1.34, -0.4, 1.13, 1.32]}"
      ]
     },
     "execution_count": 10,
     "metadata": {},
     "output_type": "execute_result"
    }
   ],
   "source": [
    "hydro_dict"
   ]
  },
  {
   "cell_type": "code",
   "execution_count": 11,
   "metadata": {},
   "outputs": [
    {
     "name": "stdout",
     "output_type": "stream",
     "text": [
      "[99, 99, 99, 99, 99, 99, 99, 99, 99, 99, 99]\n"
     ]
    },
    {
     "data": {
      "text/plain": [
       "{'A': [1.8, -0.17, 0.11, 0.0, 0.38, -0.21, -1.6, 0.42, -0.27, 1.12, 0.61],\n",
       " 'R': [-4.5, -0.81, 2.58, 3.71, -2.57, 2.11, 12.3, -1.56, 1.87, -2.55, 0.6],\n",
       " 'N': [-3.5, -0.42, 2.05, 3.47, -1.62, 0.96, 4.8, -1.03, 0.81, -0.83, 0.06],\n",
       " 'D': [-3.5, -1.23, 3.49, 2.95, -3.27, 1.36, 9.2, -0.51, 0.81, -0.83, 0.46],\n",
       " 'C': [2.5, 0.24, -0.13, 0.49, -0.3, -6.04, -2.0, 0.84, -1.05, 0.59, 1.07],\n",
       " 'Q': [-3.5, -0.58, 2.36, 3.01, -1.84, 1.52, 4.1, -0.96, 1.1, -0.78, 0.0],\n",
       " 'E': [-3.5, -2.02, 2.68, 1.64, -2.9, 2.3, 8.2, -0.37, 1.17, -0.92, 0.47],\n",
       " 'G': [-0.4, -0.01, 0.74, 1.72, -0.19, 0.0, -1.0, 0.0, -0.16, 1.2, 0.07],\n",
       " 'H': [-3.2, -0.96, 2.06, 4.76, -1.44, -1.23, 3.0, -2.28, 0.28, -0.93, 0.61],\n",
       " 'I': [4.5, 0.31, -0.6, -1.56, 1.97, -4.81, -3.1, 1.81, -0.77, 1.16, 2.22],\n",
       " 'L': [3.8, 0.56, -0.55, -1.81, 1.82, -4.68, -2.8, 1.8, -1.1, 1.18, 1.53],\n",
       " 'K': [-3.9, -0.99, 2.71, 5.39, -3.46, 3.88, 8.8, -2.03, 1.7, -0.8, 1.15],\n",
       " 'M': [1.9, 0.23, -0.1, -0.76, 1.4, -3.66, -3.4, 1.18, -0.73, 0.55, 1.18],\n",
       " 'F': [2.8, 1.13, -0.32, -2.2, 1.98, -4.65, -3.7, 1.74, -1.43, 0.67, 2.02],\n",
       " 'P': [-1.6, -0.45, 2.23, -1.52, -1.44, 0.75, 0.2, 0.86, -0.75, 0.54, 1.95],\n",
       " 'S': [-0.8, -0.13, 0.84, 1.83, -0.53, 1.74, -0.6, -0.64, 0.42, -0.05, 0.05],\n",
       " 'T': [-0.7, -0.14, 0.52, 1.78, -0.32, 0.78, -1.2, -0.26, 0.63, -0.02, 0.05],\n",
       " 'W': [-0.9, 1.85, 0.3, -0.38, 1.53, -3.32, -1.9, 1.46, -1.57, -0.19, 2.65],\n",
       " 'Y': [-1.3, 0.94, 0.68, -1.09, 0.49, -1.01, 0.7, 0.51, -0.56, -0.23, 1.88],\n",
       " 'V': [4.2, -0.07, -0.31, -0.78, 1.46, -3.5, -2.6, 1.34, -0.4, 1.13, 1.32],\n",
       " 'Z': [99, 99, 99, 99, 99, 99, 99, 99, 99, 99, 99]}"
      ]
     },
     "execution_count": 11,
     "metadata": {},
     "output_type": "execute_result"
    }
   ],
   "source": [
    "all_0 = [99 for i in range(11)]\n",
    "print(all_0)\n",
    "hydro_dict['Z'] = all_0\n",
    "hydro_dict"
   ]
  },
  {
   "cell_type": "code",
   "execution_count": 12,
   "metadata": {
    "collapsed": true
   },
   "outputs": [],
   "source": [
    "#now map the sequences using hydro_dict\n",
    "import pickle\n",
    " \n",
    "# pickle - saving\n",
    " \n",
    "with open('data.pickle', 'wb') as f:\n",
    "    pickle.dump(hydro_dict, f)\n",
    " \n",
    "# pickle  loading\n",
    "\n",
    "with open('data.pickle', 'rb') as f:\n",
    "    hydro_dict = pickle.load(f)"
   ]
  }
 ],
 "metadata": {
  "kernelspec": {
   "display_name": "Python 3",
   "language": "python",
   "name": "python3"
  },
  "language_info": {
   "codemirror_mode": {
    "name": "ipython",
    "version": 3
   },
   "file_extension": ".py",
   "mimetype": "text/x-python",
   "name": "python",
   "nbconvert_exporter": "python",
   "pygments_lexer": "ipython3",
   "version": "3.6.8"
  }
 },
 "nbformat": 4,
 "nbformat_minor": 2
}
